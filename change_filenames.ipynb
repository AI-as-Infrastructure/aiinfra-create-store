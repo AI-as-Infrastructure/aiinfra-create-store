{
 "cells": [
  {
   "cell_type": "code",
   "execution_count": 1,
   "metadata": {},
   "outputs": [
    {
     "name": "stdout",
     "output_type": "stream",
     "text": [
      "File renaming completed.\n"
     ]
    }
   ],
   "source": [
    "# Removes integers and hyphens appended to filenames.\n",
    "\n",
    "import os\n",
    "import re\n",
    "\n",
    "# Define the directory path\n",
    "directory = \"/home/jamessmithies/Dropbox/Technical/projects/aiinfra/vector_sources/1901/au/hofreps/txt\"\n",
    "\n",
    "# Iterate through each file in the directory\n",
    "for filename in os.listdir(directory):\n",
    "    # Define the full file path\n",
    "    old_file_path = os.path.join(directory, filename)\n",
    "    \n",
    "    # Use regex to remove the integer and hyphen prefix\n",
    "    new_filename = re.sub(r'^\\d+-', '', filename)\n",
    "    \n",
    "    # Define the new file path\n",
    "    new_file_path = os.path.join(directory, new_filename)\n",
    "    \n",
    "    # Rename the file\n",
    "    os.rename(old_file_path, new_file_path)\n",
    "\n",
    "print(\"File renaming completed.\")"
   ]
  }
 ],
 "metadata": {
  "kernelspec": {
   "display_name": ".venv",
   "language": "python",
   "name": "python3"
  },
  "language_info": {
   "codemirror_mode": {
    "name": "ipython",
    "version": 3
   },
   "file_extension": ".py",
   "mimetype": "text/x-python",
   "name": "python",
   "nbconvert_exporter": "python",
   "pygments_lexer": "ipython3",
   "version": "3.10.12"
  }
 },
 "nbformat": 4,
 "nbformat_minor": 2
}
